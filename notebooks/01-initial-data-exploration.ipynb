{
 "cells": [
  {
   "cell_type": "markdown",
   "metadata": {},
   "source": [
    "# Initial data exploration\n",
    "\n",
    "The dataset was initially downloaded from https://composing.ai/dataset and it should consist of 77153 midi songs. This notebook will take step by step the initial exploration made to check the dataset and the contents.\n",
    "\n",
    "## A random song\n",
    "\n",
    "First of all, lets load all the dataset and pick and listen to a random song. (I personally used timidity from brew)"
   ]
  },
  {
   "cell_type": "code",
   "execution_count": 16,
   "metadata": {},
   "outputs": [
    {
     "data": {
      "text/plain": [
       "'../data/raw/Big_Data_Set/H/H/Hikaru no Go - Majiwaru Michi.mid'"
      ]
     },
     "execution_count": 16,
     "metadata": {},
     "output_type": "execute_result"
    }
   ],
   "source": [
    "import os\n",
    "import random\n",
    "\n",
    "f = []\n",
    "\n",
    "for root, dirs, files in os.walk(\"../data/raw\"):\n",
    "    for file in files:\n",
    "        if file.endswith(\".mid\"):\n",
    "             f.append(os.path.join(root, file))\n",
    "\n",
    "random.choice(f)"
   ]
  },
  {
   "cell_type": "markdown",
   "metadata": {},
   "source": [
    "## Checking the data set length\n",
    "\n",
    "Lets check the data set length, should be 77153 songs acording to the documentation"
   ]
  },
  {
   "cell_type": "code",
   "execution_count": 5,
   "metadata": {},
   "outputs": [
    {
     "data": {
      "text/plain": [
       "77111"
      ]
     },
     "execution_count": 5,
     "metadata": {},
     "output_type": "execute_result"
    }
   ],
   "source": [
    "len(f)"
   ]
  },
  {
   "cell_type": "markdown",
   "metadata": {},
   "source": [
    "good enough.\n",
    "\n",
    "## Checking repeated songs\n",
    "\n",
    "For this pourpuse, lets create a checksum from each song and check for coincidences."
   ]
  },
  {
   "cell_type": "code",
   "execution_count": 13,
   "metadata": {},
   "outputs": [
    {
     "name": "stdout",
     "output_type": "stream",
     "text": [
      "77111\n",
      "77111\n"
     ]
    }
   ],
   "source": [
    "import hashlib\n",
    "\n",
    "def md5(fname):\n",
    "    hash_md5 = hashlib.md5()\n",
    "    with open(fname, \"rb\") as f:\n",
    "        for chunk in iter(lambda: f.read(4096), b\"\"):\n",
    "            hash_md5.update(chunk)\n",
    "    return hash_md5.hexdigest()\n",
    "\n",
    "l = []\n",
    "for midi in f:\n",
    "    l.append(md5(midi))\n",
    "\n",
    "s = set(l)\n",
    "print(len(l))\n",
    "print(len(s))"
   ]
  },
  {
   "cell_type": "markdown",
   "metadata": {},
   "source": [
    "thats good"
   ]
  },
  {
   "cell_type": "code",
   "execution_count": null,
   "metadata": {},
   "outputs": [],
   "source": []
  }
 ],
 "metadata": {
  "kernelspec": {
   "display_name": "Python 3",
   "language": "python",
   "name": "python3"
  },
  "language_info": {
   "codemirror_mode": {
    "name": "ipython",
    "version": 3
   },
   "file_extension": ".py",
   "mimetype": "text/x-python",
   "name": "python",
   "nbconvert_exporter": "python",
   "pygments_lexer": "ipython3",
   "version": "3.7.0"
  }
 },
 "nbformat": 4,
 "nbformat_minor": 2
}
